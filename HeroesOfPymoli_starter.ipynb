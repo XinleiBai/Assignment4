{
 "cells": [
  {
   "cell_type": "markdown",
   "metadata": {},
   "source": [
    "### Heroes Of Pymoli Data Analysis\n",
    "* Of the 1163 active players, the vast majority are male (84%). There also exists, a smaller, but notable proportion of female players (14%).\n",
    "\n",
    "* Our peak age demographic falls between 20-24 (44.8%) with secondary groups falling between 15-19 (18.60%) and 25-29 (13.4%).  \n",
    "-----"
   ]
  },
  {
   "cell_type": "markdown",
   "metadata": {},
   "source": [
    "### Note\n",
    "* Instructions have been included for each segment. You do not have to follow them exactly, but they are included to help you think through the steps."
   ]
  },
  {
   "cell_type": "markdown",
   "metadata": {},
   "source": [
    "1. Out of 576 active players, the majority are male(84%).\n",
    "2. The peack age demographic falls between 20-24 for the most purchase counts. \n",
    "3. The most popular item is the same as the most profitable item, whhich is Oathbreaker, Last Hope of the Breaking Storm\n"
   ]
  },
  {
   "cell_type": "code",
   "execution_count": 1,
   "metadata": {},
   "outputs": [
    {
     "data": {
      "text/html": [
       "<div>\n",
       "<style scoped>\n",
       "    .dataframe tbody tr th:only-of-type {\n",
       "        vertical-align: middle;\n",
       "    }\n",
       "\n",
       "    .dataframe tbody tr th {\n",
       "        vertical-align: top;\n",
       "    }\n",
       "\n",
       "    .dataframe thead th {\n",
       "        text-align: right;\n",
       "    }\n",
       "</style>\n",
       "<table border=\"1\" class=\"dataframe\">\n",
       "  <thead>\n",
       "    <tr style=\"text-align: right;\">\n",
       "      <th></th>\n",
       "      <th>Purchase ID</th>\n",
       "      <th>SN</th>\n",
       "      <th>Age</th>\n",
       "      <th>Gender</th>\n",
       "      <th>Item ID</th>\n",
       "      <th>Item Name</th>\n",
       "      <th>Price</th>\n",
       "    </tr>\n",
       "  </thead>\n",
       "  <tbody>\n",
       "    <tr>\n",
       "      <th>0</th>\n",
       "      <td>0</td>\n",
       "      <td>Lisim78</td>\n",
       "      <td>20</td>\n",
       "      <td>Male</td>\n",
       "      <td>108</td>\n",
       "      <td>Extraction, Quickblade Of Trembling Hands</td>\n",
       "      <td>3.53</td>\n",
       "    </tr>\n",
       "    <tr>\n",
       "      <th>1</th>\n",
       "      <td>1</td>\n",
       "      <td>Lisovynya38</td>\n",
       "      <td>40</td>\n",
       "      <td>Male</td>\n",
       "      <td>143</td>\n",
       "      <td>Frenzied Scimitar</td>\n",
       "      <td>1.56</td>\n",
       "    </tr>\n",
       "    <tr>\n",
       "      <th>2</th>\n",
       "      <td>2</td>\n",
       "      <td>Ithergue48</td>\n",
       "      <td>24</td>\n",
       "      <td>Male</td>\n",
       "      <td>92</td>\n",
       "      <td>Final Critic</td>\n",
       "      <td>4.88</td>\n",
       "    </tr>\n",
       "    <tr>\n",
       "      <th>3</th>\n",
       "      <td>3</td>\n",
       "      <td>Chamassasya86</td>\n",
       "      <td>24</td>\n",
       "      <td>Male</td>\n",
       "      <td>100</td>\n",
       "      <td>Blindscythe</td>\n",
       "      <td>3.27</td>\n",
       "    </tr>\n",
       "    <tr>\n",
       "      <th>4</th>\n",
       "      <td>4</td>\n",
       "      <td>Iskosia90</td>\n",
       "      <td>23</td>\n",
       "      <td>Male</td>\n",
       "      <td>131</td>\n",
       "      <td>Fury</td>\n",
       "      <td>1.44</td>\n",
       "    </tr>\n",
       "  </tbody>\n",
       "</table>\n",
       "</div>"
      ],
      "text/plain": [
       "   Purchase ID             SN  Age Gender  Item ID  \\\n",
       "0            0        Lisim78   20   Male      108   \n",
       "1            1    Lisovynya38   40   Male      143   \n",
       "2            2     Ithergue48   24   Male       92   \n",
       "3            3  Chamassasya86   24   Male      100   \n",
       "4            4      Iskosia90   23   Male      131   \n",
       "\n",
       "                                   Item Name  Price  \n",
       "0  Extraction, Quickblade Of Trembling Hands   3.53  \n",
       "1                          Frenzied Scimitar   1.56  \n",
       "2                               Final Critic   4.88  \n",
       "3                                Blindscythe   3.27  \n",
       "4                                       Fury   1.44  "
      ]
     },
     "execution_count": 1,
     "metadata": {},
     "output_type": "execute_result"
    }
   ],
   "source": [
    "# Dependencies and Setup\n",
    "import pandas as pd\n",
    "import numpy as np\n",
    "\n",
    "# File to Load (Remember to Change These)\n",
    "file_to_load = \"./Resources/purchase_data.csv\"\n",
    "\n",
    "# Read Purchasing File and store into Pandas data frame\n",
    "purchase_data = pd.read_csv(file_to_load)\n",
    "purchase_data.head()"
   ]
  },
  {
   "cell_type": "markdown",
   "metadata": {},
   "source": [
    "## Player Count"
   ]
  },
  {
   "cell_type": "markdown",
   "metadata": {},
   "source": [
    "* Display the total number of players\n"
   ]
  },
  {
   "cell_type": "code",
   "execution_count": 2,
   "metadata": {},
   "outputs": [
    {
     "data": {
      "text/html": [
       "<div>\n",
       "<style scoped>\n",
       "    .dataframe tbody tr th:only-of-type {\n",
       "        vertical-align: middle;\n",
       "    }\n",
       "\n",
       "    .dataframe tbody tr th {\n",
       "        vertical-align: top;\n",
       "    }\n",
       "\n",
       "    .dataframe thead th {\n",
       "        text-align: right;\n",
       "    }\n",
       "</style>\n",
       "<table border=\"1\" class=\"dataframe\">\n",
       "  <thead>\n",
       "    <tr style=\"text-align: right;\">\n",
       "      <th></th>\n",
       "      <th>Total Players</th>\n",
       "    </tr>\n",
       "  </thead>\n",
       "  <tbody>\n",
       "    <tr>\n",
       "      <th>0</th>\n",
       "      <td>576</td>\n",
       "    </tr>\n",
       "  </tbody>\n",
       "</table>\n",
       "</div>"
      ],
      "text/plain": [
       "   Total Players\n",
       "0            576"
      ]
     },
     "execution_count": 2,
     "metadata": {},
     "output_type": "execute_result"
    }
   ],
   "source": [
    "count = purchase_data[\"SN\"].value_counts()\n",
    "count\n",
    "total = len(count)\n",
    "\n",
    "summary_table = pd.DataFrame({\"Total Players\": [total]})\n",
    "                                \n",
    "summary_table.head()"
   ]
  },
  {
   "cell_type": "markdown",
   "metadata": {},
   "source": [
    "## Purchasing Analysis (Total)"
   ]
  },
  {
   "cell_type": "markdown",
   "metadata": {},
   "source": [
    "* Run basic calculations to obtain number of unique items, average price, etc.\n",
    "\n",
    "\n",
    "* Create a summary data frame to hold the results\n",
    "\n",
    "\n",
    "* Optional: give the displayed data cleaner formatting\n",
    "\n",
    "\n",
    "* Display the summary data frame\n"
   ]
  },
  {
   "cell_type": "code",
   "execution_count": 5,
   "metadata": {
    "scrolled": true
   },
   "outputs": [
    {
     "data": {
      "text/html": [
       "<style  type=\"text/css\" >\n",
       "</style>  \n",
       "<table id=\"T_38603b62_4468_11e9_a9dd_d0817aba475c\" > \n",
       "<thead>    <tr> \n",
       "        <th class=\"blank level0\" ></th> \n",
       "        <th class=\"col_heading level0 col0\" >Number of Unique Items</th> \n",
       "        <th class=\"col_heading level0 col1\" >Average Price</th> \n",
       "        <th class=\"col_heading level0 col2\" >Number of Purchases</th> \n",
       "        <th class=\"col_heading level0 col3\" >Total Revenue</th> \n",
       "    </tr></thead> \n",
       "<tbody>    <tr> \n",
       "        <th id=\"T_38603b62_4468_11e9_a9dd_d0817aba475clevel0_row0\" class=\"row_heading level0 row0\" >0</th> \n",
       "        <td id=\"T_38603b62_4468_11e9_a9dd_d0817aba475crow0_col0\" class=\"data row0 col0\" >183</td> \n",
       "        <td id=\"T_38603b62_4468_11e9_a9dd_d0817aba475crow0_col1\" class=\"data row0 col1\" >$3.05</td> \n",
       "        <td id=\"T_38603b62_4468_11e9_a9dd_d0817aba475crow0_col2\" class=\"data row0 col2\" >780</td> \n",
       "        <td id=\"T_38603b62_4468_11e9_a9dd_d0817aba475crow0_col3\" class=\"data row0 col3\" >$2,379.77</td> \n",
       "    </tr></tbody> \n",
       "</table> "
      ],
      "text/plain": [
       "<pandas.io.formats.style.Styler at 0x120cdcef0>"
      ]
     },
     "execution_count": 5,
     "metadata": {},
     "output_type": "execute_result"
    }
   ],
   "source": [
    "unique = purchase_data[\"Item ID\"].unique()\n",
    "unique\n",
    "number=len(unique)\n",
    "number\n",
    "average = purchase_data[\"Price\"].mean()\n",
    "average\n",
    "purchase= purchase_data[\"Purchase ID\"].value_counts()\n",
    "purchase\n",
    "purchase_total= len(purchase)\n",
    "purchase_total\n",
    "total_revenue = purchase_data[\"Price\"].sum()\n",
    "total_revenue\n",
    "\n",
    "summary = pd.DataFrame({\"Number of Unique Items\": [number],\"Average Price\":[average],\"Number of Purchases\":[purchase_total],\"Total Revenue\":[total_revenue]})\n",
    "                                \n",
    "summary.head()\n",
    "\n",
    "Display=summary.style.format({'Average Price':'${:,.2f}'.format,'Total Revenue':'${:,.2f}'.format})\n",
    "Display\n"
   ]
  },
  {
   "cell_type": "markdown",
   "metadata": {},
   "source": [
    "## Gender Demographics"
   ]
  },
  {
   "cell_type": "markdown",
   "metadata": {},
   "source": [
    "* Percentage and Count of Male Players\n",
    "\n",
    "\n",
    "* Percentage and Count of Female Players\n",
    "\n",
    "\n",
    "* Percentage and Count of Other / Non-Disclosed\n",
    "\n",
    "\n"
   ]
  },
  {
   "cell_type": "code",
   "execution_count": 7,
   "metadata": {},
   "outputs": [
    {
     "data": {
      "text/html": [
       "<style  type=\"text/css\" >\n",
       "</style>  \n",
       "<table id=\"T_5b95217e_4468_11e9_a9dd_d0817aba475c\" > \n",
       "<thead>    <tr> \n",
       "        <th class=\"blank level0\" ></th> \n",
       "        <th class=\"col_heading level0 col0\" >Total Count</th> \n",
       "        <th class=\"col_heading level0 col1\" >Percentage of Players</th> \n",
       "    </tr>    <tr> \n",
       "        <th class=\"index_name level0\" >Gender</th> \n",
       "        <th class=\"blank\" ></th> \n",
       "        <th class=\"blank\" ></th> \n",
       "    </tr></thead> \n",
       "<tbody>    <tr> \n",
       "        <th id=\"T_5b95217e_4468_11e9_a9dd_d0817aba475clevel0_row0\" class=\"row_heading level0 row0\" >Female</th> \n",
       "        <td id=\"T_5b95217e_4468_11e9_a9dd_d0817aba475crow0_col0\" class=\"data row0 col0\" >81</td> \n",
       "        <td id=\"T_5b95217e_4468_11e9_a9dd_d0817aba475crow0_col1\" class=\"data row0 col1\" >14.06%</td> \n",
       "    </tr>    <tr> \n",
       "        <th id=\"T_5b95217e_4468_11e9_a9dd_d0817aba475clevel0_row1\" class=\"row_heading level0 row1\" >Male</th> \n",
       "        <td id=\"T_5b95217e_4468_11e9_a9dd_d0817aba475crow1_col0\" class=\"data row1 col0\" >484</td> \n",
       "        <td id=\"T_5b95217e_4468_11e9_a9dd_d0817aba475crow1_col1\" class=\"data row1 col1\" >84.03%</td> \n",
       "    </tr>    <tr> \n",
       "        <th id=\"T_5b95217e_4468_11e9_a9dd_d0817aba475clevel0_row2\" class=\"row_heading level0 row2\" >Other / Non-Disclosed</th> \n",
       "        <td id=\"T_5b95217e_4468_11e9_a9dd_d0817aba475crow2_col0\" class=\"data row2 col0\" >11</td> \n",
       "        <td id=\"T_5b95217e_4468_11e9_a9dd_d0817aba475crow2_col1\" class=\"data row2 col1\" >1.91%</td> \n",
       "    </tr></tbody> \n",
       "</table> "
      ],
      "text/plain": [
       "<pandas.io.formats.style.Styler at 0x1220bad68>"
      ]
     },
     "execution_count": 7,
     "metadata": {},
     "output_type": "execute_result"
    }
   ],
   "source": [
    "\n",
    "\n",
    "new_table = purchase_data[[\"Gender\", \"SN\"]]\n",
    "new_table.head()\n",
    "new=new_table.drop_duplicates(subset=\"SN\",keep='first', inplace=False)\n",
    "\n",
    "Gender_group= new.groupby(\"Gender\").count()\n",
    "Gender_group\n",
    "\n",
    "\n",
    "Gender_group[\"Percentage of Players\"] = Gender_group[\"SN\"]/total\n",
    "Gender_group[\"Percentage of Players\"]\n",
    "\n",
    "\n",
    "table = Gender_group[[\"SN\", \"Percentage of Players\"]]\n",
    "table.head()\n",
    "\n",
    "new_output=Gender_group.rename(columns={'SN': 'Total Count'})\n",
    "new_output\n",
    "\n",
    "output=new_output.style.format({'Percentage of Players': '{:,.2%}'.format})\n",
    "output\n",
    "\n",
    "\n",
    "\n"
   ]
  },
  {
   "cell_type": "markdown",
   "metadata": {},
   "source": [
    "\n",
    "## Purchasing Analysis (Gender)"
   ]
  },
  {
   "cell_type": "markdown",
   "metadata": {},
   "source": [
    "* Run basic calculations to obtain purchase count, avg. purchase price, avg. purchase total per person etc. by gender\n",
    "\n",
    "\n",
    "\n",
    "* Create a summary data frame to hold the results\n",
    "\n",
    "\n",
    "* Optional: give the displayed data cleaner formatting\n",
    "\n",
    "\n",
    "* Display the summary data frame"
   ]
  },
  {
   "cell_type": "code",
   "execution_count": 72,
   "metadata": {},
   "outputs": [
    {
     "data": {
      "text/html": [
       "<style  type=\"text/css\" >\n",
       "</style>  \n",
       "<table id=\"T_6b3c9a88_446f_11e9_a9dd_d0817aba475c\" > \n",
       "<thead>    <tr> \n",
       "        <th class=\"blank level0\" ></th> \n",
       "        <th class=\"col_heading level0 col0\" >Purchase Count</th> \n",
       "        <th class=\"col_heading level0 col1\" >Average Purchase Price</th> \n",
       "        <th class=\"col_heading level0 col2\" >Total Purchase Value</th> \n",
       "        <th class=\"col_heading level0 col3\" >Avg Total Purchase per Person</th> \n",
       "    </tr>    <tr> \n",
       "        <th class=\"index_name level0\" >Gender</th> \n",
       "        <th class=\"blank\" ></th> \n",
       "        <th class=\"blank\" ></th> \n",
       "        <th class=\"blank\" ></th> \n",
       "        <th class=\"blank\" ></th> \n",
       "    </tr></thead> \n",
       "<tbody>    <tr> \n",
       "        <th id=\"T_6b3c9a88_446f_11e9_a9dd_d0817aba475clevel0_row0\" class=\"row_heading level0 row0\" >Female</th> \n",
       "        <td id=\"T_6b3c9a88_446f_11e9_a9dd_d0817aba475crow0_col0\" class=\"data row0 col0\" >113</td> \n",
       "        <td id=\"T_6b3c9a88_446f_11e9_a9dd_d0817aba475crow0_col1\" class=\"data row0 col1\" >$3.20</td> \n",
       "        <td id=\"T_6b3c9a88_446f_11e9_a9dd_d0817aba475crow0_col2\" class=\"data row0 col2\" >$361.94</td> \n",
       "        <td id=\"T_6b3c9a88_446f_11e9_a9dd_d0817aba475crow0_col3\" class=\"data row0 col3\" >$4.47</td> \n",
       "    </tr>    <tr> \n",
       "        <th id=\"T_6b3c9a88_446f_11e9_a9dd_d0817aba475clevel0_row1\" class=\"row_heading level0 row1\" >Male</th> \n",
       "        <td id=\"T_6b3c9a88_446f_11e9_a9dd_d0817aba475crow1_col0\" class=\"data row1 col0\" >652</td> \n",
       "        <td id=\"T_6b3c9a88_446f_11e9_a9dd_d0817aba475crow1_col1\" class=\"data row1 col1\" >$3.02</td> \n",
       "        <td id=\"T_6b3c9a88_446f_11e9_a9dd_d0817aba475crow1_col2\" class=\"data row1 col2\" >$1,967.64</td> \n",
       "        <td id=\"T_6b3c9a88_446f_11e9_a9dd_d0817aba475crow1_col3\" class=\"data row1 col3\" >$4.07</td> \n",
       "    </tr>    <tr> \n",
       "        <th id=\"T_6b3c9a88_446f_11e9_a9dd_d0817aba475clevel0_row2\" class=\"row_heading level0 row2\" >Other / Non-Disclosed</th> \n",
       "        <td id=\"T_6b3c9a88_446f_11e9_a9dd_d0817aba475crow2_col0\" class=\"data row2 col0\" >15</td> \n",
       "        <td id=\"T_6b3c9a88_446f_11e9_a9dd_d0817aba475crow2_col1\" class=\"data row2 col1\" >$3.35</td> \n",
       "        <td id=\"T_6b3c9a88_446f_11e9_a9dd_d0817aba475crow2_col2\" class=\"data row2 col2\" >$50.19</td> \n",
       "        <td id=\"T_6b3c9a88_446f_11e9_a9dd_d0817aba475crow2_col3\" class=\"data row2 col3\" >$4.56</td> \n",
       "    </tr></tbody> \n",
       "</table> "
      ],
      "text/plain": [
       "<pandas.io.formats.style.Styler at 0x1225a0978>"
      ]
     },
     "execution_count": 72,
     "metadata": {},
     "output_type": "execute_result"
    }
   ],
   "source": [
    "\n",
    "\n",
    "summary_newtable = purchase_data[['Gender','Purchase ID']]\n",
    "summary_newtable.head()\n",
    "\n",
    "Group=summary_newtable.groupby(\"Gender\").count()\n",
    "Group\n",
    "\n",
    "summary_newtable1 = purchase_data[['Gender','Price']]\n",
    "summary_newtable.head()\n",
    "\n",
    "Mean=summary_newtable1.groupby(\"Gender\").mean()\n",
    "Mean\n",
    "\n",
    "summary_newtable2 = purchase_data[['Gender','Price']]\n",
    "summary_newtable.head()\n",
    "\n",
    "Mean=summary_newtable1.groupby(\"Gender\").mean()\n",
    "Mean\n",
    "\n",
    "merge_table = pd.merge(Group,Mean, on=\"Gender\")\n",
    "merge_table\n",
    "\n",
    "merge_table['Total Purchase Value']=merge_table['Purchase ID']*merge_table['Price']\n",
    "merge_table\n",
    "merge_table['Avg Total Purchase per Person']=merge_table['Total Purchase Value']/new_output['Total Count']\n",
    "merge_table\n",
    "\n",
    "merge_table=merge_table.rename(columns={'Price': 'Average Purchase Price','Purchase ID': 'Purchase Count'})\n",
    "merge_table                                \n",
    "                             \n",
    "\n",
    "output1=merge_table.style.format({'Average Purchase Price': '${:,.2f}'.format,'Total Purchase Value': '${:,.2f}'.format,'Avg Total Purchase per Person': '${:,.2f}'.format})\n",
    "output1\n",
    "                                  \n",
    "                                  \n",
    "#new_output=Gender_group.rename(columns={'SN': 'Total Count'})\n",
    "#new_output\n",
    "\n",
    "#output=new_output.style.format({'Percentage of Players': '{:,.2%}'.format})\n",
    "#output\n",
    "\n"
   ]
  },
  {
   "cell_type": "markdown",
   "metadata": {},
   "source": [
    "## Age Demographics"
   ]
  },
  {
   "cell_type": "markdown",
   "metadata": {},
   "source": [
    "* Establish bins for ages\n",
    "\n",
    "\n",
    "* Categorize the existing players using the age bins. Hint: use pd.cut()\n",
    "\n",
    "\n",
    "* Calculate the numbers and percentages by age group\n",
    "\n",
    "\n",
    "* Create a summary data frame to hold the results\n",
    "\n",
    "\n",
    "* Optional: round the percentage column to two decimal points\n",
    "\n",
    "\n",
    "* Display Age Demographics Table\n"
   ]
  },
  {
   "cell_type": "code",
   "execution_count": 191,
   "metadata": {},
   "outputs": [
    {
     "data": {
      "text/html": [
       "<style  type=\"text/css\" >\n",
       "</style>  \n",
       "<table id=\"T_2655b51c_451e_11e9_a9dd_d0817aba475c\" > \n",
       "<thead>    <tr> \n",
       "        <th class=\"blank level0\" ></th> \n",
       "        <th class=\"col_heading level0 col0\" >Total Count</th> \n",
       "        <th class=\"col_heading level0 col1\" >Percentage of Players</th> \n",
       "    </tr>    <tr> \n",
       "        <th class=\"index_name level0\" >Age range</th> \n",
       "        <th class=\"blank\" ></th> \n",
       "        <th class=\"blank\" ></th> \n",
       "    </tr></thead> \n",
       "<tbody>    <tr> \n",
       "        <th id=\"T_2655b51c_451e_11e9_a9dd_d0817aba475clevel0_row0\" class=\"row_heading level0 row0\" ><10</th> \n",
       "        <td id=\"T_2655b51c_451e_11e9_a9dd_d0817aba475crow0_col0\" class=\"data row0 col0\" >17</td> \n",
       "        <td id=\"T_2655b51c_451e_11e9_a9dd_d0817aba475crow0_col1\" class=\"data row0 col1\" >2.95</td> \n",
       "    </tr>    <tr> \n",
       "        <th id=\"T_2655b51c_451e_11e9_a9dd_d0817aba475clevel0_row1\" class=\"row_heading level0 row1\" >10-14</th> \n",
       "        <td id=\"T_2655b51c_451e_11e9_a9dd_d0817aba475crow1_col0\" class=\"data row1 col0\" >22</td> \n",
       "        <td id=\"T_2655b51c_451e_11e9_a9dd_d0817aba475crow1_col1\" class=\"data row1 col1\" >3.82</td> \n",
       "    </tr>    <tr> \n",
       "        <th id=\"T_2655b51c_451e_11e9_a9dd_d0817aba475clevel0_row2\" class=\"row_heading level0 row2\" >15-19</th> \n",
       "        <td id=\"T_2655b51c_451e_11e9_a9dd_d0817aba475crow2_col0\" class=\"data row2 col0\" >107</td> \n",
       "        <td id=\"T_2655b51c_451e_11e9_a9dd_d0817aba475crow2_col1\" class=\"data row2 col1\" >18.58</td> \n",
       "    </tr>    <tr> \n",
       "        <th id=\"T_2655b51c_451e_11e9_a9dd_d0817aba475clevel0_row3\" class=\"row_heading level0 row3\" >20-24</th> \n",
       "        <td id=\"T_2655b51c_451e_11e9_a9dd_d0817aba475crow3_col0\" class=\"data row3 col0\" >258</td> \n",
       "        <td id=\"T_2655b51c_451e_11e9_a9dd_d0817aba475crow3_col1\" class=\"data row3 col1\" >44.79</td> \n",
       "    </tr>    <tr> \n",
       "        <th id=\"T_2655b51c_451e_11e9_a9dd_d0817aba475clevel0_row4\" class=\"row_heading level0 row4\" >25-29</th> \n",
       "        <td id=\"T_2655b51c_451e_11e9_a9dd_d0817aba475crow4_col0\" class=\"data row4 col0\" >77</td> \n",
       "        <td id=\"T_2655b51c_451e_11e9_a9dd_d0817aba475crow4_col1\" class=\"data row4 col1\" >13.37</td> \n",
       "    </tr>    <tr> \n",
       "        <th id=\"T_2655b51c_451e_11e9_a9dd_d0817aba475clevel0_row5\" class=\"row_heading level0 row5\" >30-34</th> \n",
       "        <td id=\"T_2655b51c_451e_11e9_a9dd_d0817aba475crow5_col0\" class=\"data row5 col0\" >52</td> \n",
       "        <td id=\"T_2655b51c_451e_11e9_a9dd_d0817aba475crow5_col1\" class=\"data row5 col1\" >9.03</td> \n",
       "    </tr>    <tr> \n",
       "        <th id=\"T_2655b51c_451e_11e9_a9dd_d0817aba475clevel0_row6\" class=\"row_heading level0 row6\" >35-39</th> \n",
       "        <td id=\"T_2655b51c_451e_11e9_a9dd_d0817aba475crow6_col0\" class=\"data row6 col0\" >31</td> \n",
       "        <td id=\"T_2655b51c_451e_11e9_a9dd_d0817aba475crow6_col1\" class=\"data row6 col1\" >5.38</td> \n",
       "    </tr>    <tr> \n",
       "        <th id=\"T_2655b51c_451e_11e9_a9dd_d0817aba475clevel0_row7\" class=\"row_heading level0 row7\" >40+</th> \n",
       "        <td id=\"T_2655b51c_451e_11e9_a9dd_d0817aba475crow7_col0\" class=\"data row7 col0\" >5</td> \n",
       "        <td id=\"T_2655b51c_451e_11e9_a9dd_d0817aba475crow7_col1\" class=\"data row7 col1\" >0.87</td> \n",
       "    </tr></tbody> \n",
       "</table> "
      ],
      "text/plain": [
       "<pandas.io.formats.style.Styler at 0x122931208>"
      ]
     },
     "execution_count": 191,
     "metadata": {},
     "output_type": "execute_result"
    }
   ],
   "source": [
    "bins = [0,9, 14, 19, 24, 29, 34,39,40]\n",
    "\n",
    "group_labels = [\"<10\", \"10-14\", \"15-19\", \"20-24\", \"25-29\", \"30-34\",\n",
    "                \"35-39\", \"40+\"]\n",
    "purchase_data['Age range']=pd.cut(purchase_data[\"Age\"], bins, labels=group_labels)\n",
    "purchase_data\n",
    "\n",
    "#new=new_table.drop_duplicates(subset=\"SN\",keep='first', inplace=False)\n",
    "\n",
    "purchase_newdata=purchase_data.drop_duplicates(subset=\"SN\",keep='first', inplace=False)\n",
    "Bin_table = purchase_newdata[['Age range','Age']]\n",
    "Bin_table\n",
    "\n",
    "New_table=Bin_table.groupby(\"Age range\").count()\n",
    "New_table\n",
    "\n",
    "New_table['Percentage of Players']=100*New_table['Age']/total\n",
    "New_table\n",
    "New_table=New_table.rename(columns={'Age':'Total Count'})\n",
    "New_table\n",
    "\n",
    "table_new=New_table.style.format({'Percentage of Players': '{:,.2f}'.format})\n",
    "table_new\n",
    "\n",
    "#table_new = table_new.style.format({'Percentage of Players': str.replace(\"%\",\"\").astype(float)\n",
    "#table_new\n",
    "            \n",
    "\n",
    "#df[cols] = df[cols].replace({'\\$': '', ',': ''}, regex=True)\n"
   ]
  },
  {
   "cell_type": "markdown",
   "metadata": {},
   "source": [
    "## Purchasing Analysis (Age)"
   ]
  },
  {
   "cell_type": "markdown",
   "metadata": {},
   "source": [
    "* Bin the purchase_data data frame by age\n",
    "\n",
    "\n",
    "* Run basic calculations to obtain purchase count, avg. purchase price, avg. purchase total per person etc. in the table below\n",
    "\n",
    "\n",
    "* Create a summary data frame to hold the results\n",
    "\n",
    "\n",
    "* Optional: give the displayed data cleaner formatting\n",
    "\n",
    "\n",
    "* Display the summary data frame"
   ]
  },
  {
   "cell_type": "code",
   "execution_count": 94,
   "metadata": {},
   "outputs": [
    {
     "data": {
      "text/html": [
       "<style  type=\"text/css\" >\n",
       "</style>  \n",
       "<table id=\"T_363ee91e_4472_11e9_a9dd_d0817aba475c\" > \n",
       "<thead>    <tr> \n",
       "        <th class=\"blank level0\" ></th> \n",
       "        <th class=\"col_heading level0 col0\" >Purchase Count</th> \n",
       "        <th class=\"col_heading level0 col1\" >Average Purchase Price</th> \n",
       "        <th class=\"col_heading level0 col2\" >Total Purchase Value</th> \n",
       "        <th class=\"col_heading level0 col3\" >Avg Total Purchase per Person</th> \n",
       "    </tr>    <tr> \n",
       "        <th class=\"index_name level0\" >Age range</th> \n",
       "        <th class=\"blank\" ></th> \n",
       "        <th class=\"blank\" ></th> \n",
       "        <th class=\"blank\" ></th> \n",
       "        <th class=\"blank\" ></th> \n",
       "    </tr></thead> \n",
       "<tbody>    <tr> \n",
       "        <th id=\"T_363ee91e_4472_11e9_a9dd_d0817aba475clevel0_row0\" class=\"row_heading level0 row0\" ><10</th> \n",
       "        <td id=\"T_363ee91e_4472_11e9_a9dd_d0817aba475crow0_col0\" class=\"data row0 col0\" >23</td> \n",
       "        <td id=\"T_363ee91e_4472_11e9_a9dd_d0817aba475crow0_col1\" class=\"data row0 col1\" >$3.35</td> \n",
       "        <td id=\"T_363ee91e_4472_11e9_a9dd_d0817aba475crow0_col2\" class=\"data row0 col2\" >$77.13</td> \n",
       "        <td id=\"T_363ee91e_4472_11e9_a9dd_d0817aba475crow0_col3\" class=\"data row0 col3\" >$4.54</td> \n",
       "    </tr>    <tr> \n",
       "        <th id=\"T_363ee91e_4472_11e9_a9dd_d0817aba475clevel0_row1\" class=\"row_heading level0 row1\" >10-14</th> \n",
       "        <td id=\"T_363ee91e_4472_11e9_a9dd_d0817aba475crow1_col0\" class=\"data row1 col0\" >28</td> \n",
       "        <td id=\"T_363ee91e_4472_11e9_a9dd_d0817aba475crow1_col1\" class=\"data row1 col1\" >$2.96</td> \n",
       "        <td id=\"T_363ee91e_4472_11e9_a9dd_d0817aba475crow1_col2\" class=\"data row1 col2\" >$82.78</td> \n",
       "        <td id=\"T_363ee91e_4472_11e9_a9dd_d0817aba475crow1_col3\" class=\"data row1 col3\" >$3.76</td> \n",
       "    </tr>    <tr> \n",
       "        <th id=\"T_363ee91e_4472_11e9_a9dd_d0817aba475clevel0_row2\" class=\"row_heading level0 row2\" >15-19</th> \n",
       "        <td id=\"T_363ee91e_4472_11e9_a9dd_d0817aba475crow2_col0\" class=\"data row2 col0\" >136</td> \n",
       "        <td id=\"T_363ee91e_4472_11e9_a9dd_d0817aba475crow2_col1\" class=\"data row2 col1\" >$3.04</td> \n",
       "        <td id=\"T_363ee91e_4472_11e9_a9dd_d0817aba475crow2_col2\" class=\"data row2 col2\" >$412.89</td> \n",
       "        <td id=\"T_363ee91e_4472_11e9_a9dd_d0817aba475crow2_col3\" class=\"data row2 col3\" >$3.86</td> \n",
       "    </tr>    <tr> \n",
       "        <th id=\"T_363ee91e_4472_11e9_a9dd_d0817aba475clevel0_row3\" class=\"row_heading level0 row3\" >20-24</th> \n",
       "        <td id=\"T_363ee91e_4472_11e9_a9dd_d0817aba475crow3_col0\" class=\"data row3 col0\" >365</td> \n",
       "        <td id=\"T_363ee91e_4472_11e9_a9dd_d0817aba475crow3_col1\" class=\"data row3 col1\" >$3.05</td> \n",
       "        <td id=\"T_363ee91e_4472_11e9_a9dd_d0817aba475crow3_col2\" class=\"data row3 col2\" >$1,114.06</td> \n",
       "        <td id=\"T_363ee91e_4472_11e9_a9dd_d0817aba475crow3_col3\" class=\"data row3 col3\" >$4.32</td> \n",
       "    </tr>    <tr> \n",
       "        <th id=\"T_363ee91e_4472_11e9_a9dd_d0817aba475clevel0_row4\" class=\"row_heading level0 row4\" >25-29</th> \n",
       "        <td id=\"T_363ee91e_4472_11e9_a9dd_d0817aba475crow4_col0\" class=\"data row4 col0\" >101</td> \n",
       "        <td id=\"T_363ee91e_4472_11e9_a9dd_d0817aba475crow4_col1\" class=\"data row4 col1\" >$2.90</td> \n",
       "        <td id=\"T_363ee91e_4472_11e9_a9dd_d0817aba475crow4_col2\" class=\"data row4 col2\" >$293.00</td> \n",
       "        <td id=\"T_363ee91e_4472_11e9_a9dd_d0817aba475crow4_col3\" class=\"data row4 col3\" >$3.81</td> \n",
       "    </tr>    <tr> \n",
       "        <th id=\"T_363ee91e_4472_11e9_a9dd_d0817aba475clevel0_row5\" class=\"row_heading level0 row5\" >30-34</th> \n",
       "        <td id=\"T_363ee91e_4472_11e9_a9dd_d0817aba475crow5_col0\" class=\"data row5 col0\" >73</td> \n",
       "        <td id=\"T_363ee91e_4472_11e9_a9dd_d0817aba475crow5_col1\" class=\"data row5 col1\" >$2.93</td> \n",
       "        <td id=\"T_363ee91e_4472_11e9_a9dd_d0817aba475crow5_col2\" class=\"data row5 col2\" >$214.00</td> \n",
       "        <td id=\"T_363ee91e_4472_11e9_a9dd_d0817aba475crow5_col3\" class=\"data row5 col3\" >$4.12</td> \n",
       "    </tr>    <tr> \n",
       "        <th id=\"T_363ee91e_4472_11e9_a9dd_d0817aba475clevel0_row6\" class=\"row_heading level0 row6\" >35-39</th> \n",
       "        <td id=\"T_363ee91e_4472_11e9_a9dd_d0817aba475crow6_col0\" class=\"data row6 col0\" >41</td> \n",
       "        <td id=\"T_363ee91e_4472_11e9_a9dd_d0817aba475crow6_col1\" class=\"data row6 col1\" >$3.60</td> \n",
       "        <td id=\"T_363ee91e_4472_11e9_a9dd_d0817aba475crow6_col2\" class=\"data row6 col2\" >$147.67</td> \n",
       "        <td id=\"T_363ee91e_4472_11e9_a9dd_d0817aba475crow6_col3\" class=\"data row6 col3\" >$4.76</td> \n",
       "    </tr>    <tr> \n",
       "        <th id=\"T_363ee91e_4472_11e9_a9dd_d0817aba475clevel0_row7\" class=\"row_heading level0 row7\" >40+</th> \n",
       "        <td id=\"T_363ee91e_4472_11e9_a9dd_d0817aba475crow7_col0\" class=\"data row7 col0\" >6</td> \n",
       "        <td id=\"T_363ee91e_4472_11e9_a9dd_d0817aba475crow7_col1\" class=\"data row7 col1\" >$2.79</td> \n",
       "        <td id=\"T_363ee91e_4472_11e9_a9dd_d0817aba475crow7_col2\" class=\"data row7 col2\" >$16.71</td> \n",
       "        <td id=\"T_363ee91e_4472_11e9_a9dd_d0817aba475crow7_col3\" class=\"data row7 col3\" >$3.34</td> \n",
       "    </tr></tbody> \n",
       "</table> "
      ],
      "text/plain": [
       "<pandas.io.formats.style.Styler at 0x122414780>"
      ]
     },
     "execution_count": 94,
     "metadata": {},
     "output_type": "execute_result"
    }
   ],
   "source": [
    "Bin_table1 = purchase_data[['Age range','Purchase ID']]\n",
    "Bin_table1\n",
    "\n",
    "New_table1=Bin_table1.groupby(\"Age range\").count()\n",
    "New_table1\n",
    "\n",
    "Bin_table2 = purchase_data[['Age range','Price']]\n",
    "Bin_table2\n",
    "\n",
    "New_table2=Bin_table2.groupby(\"Age range\").mean()\n",
    "New_table2\n",
    "\n",
    "New_table3=pd.merge(New_table1,New_table2,on=\"Age range\")\n",
    "New_table3\n",
    "\n",
    "New_table3['Total Purchase Value']=New_table3['Purchase ID']*New_table3['Price']\n",
    "New_table3\n",
    "New_table3['Avg Total Purchase per Person']=New_table3['Total Purchase Value']/New_table['Total Count']\n",
    "New_table3\n",
    "\n",
    "New_table3=New_table3.rename(columns={'Price': 'Average Purchase Price','Purchase ID': 'Purchase Count'})\n",
    "New_table3                               \n",
    "                             \n",
    "\n",
    "New_table3=New_table3.style.format({'Average Purchase Price': '${:,.2f}'.format,'Total Purchase Value': '${:,.2f}'.format,'Avg Total Purchase per Person': '${:,.2f}'.format})\n",
    "New_table3\n",
    "\n",
    "\n",
    "#Group_table3=New_table3.groupby(\"Age range\")\n",
    "#Group_table3.head()\n",
    "\n",
    "\n",
    "#New_table['Percentage of Players']=New_table['Age']/total\n",
    "#New_table\n",
    "#New_table=New_table.rename(columns={'Age':'Total Count'})\n",
    "#New_table"
   ]
  },
  {
   "cell_type": "markdown",
   "metadata": {},
   "source": [
    "## Top Spenders"
   ]
  },
  {
   "cell_type": "markdown",
   "metadata": {},
   "source": [
    "* Run basic calculations to obtain the results in the table below\n",
    "\n",
    "\n",
    "* Create a summary data frame to hold the results\n",
    "\n",
    "\n",
    "* Sort the total purchase value column in descending order\n",
    "\n",
    "\n",
    "* Optional: give the displayed data cleaner formatting\n",
    "\n",
    "\n",
    "* Display a preview of the summary data frame\n",
    "\n"
   ]
  },
  {
   "cell_type": "code",
   "execution_count": 188,
   "metadata": {},
   "outputs": [
    {
     "data": {
      "text/html": [
       "<style  type=\"text/css\" >\n",
       "</style>  \n",
       "<table id=\"T_db24ceac_451d_11e9_a9dd_d0817aba475c\" > \n",
       "<thead>    <tr> \n",
       "        <th class=\"blank level0\" ></th> \n",
       "        <th class=\"col_heading level0 col0\" >Purchase Count</th> \n",
       "        <th class=\"col_heading level0 col1\" >Average Purchase Price</th> \n",
       "        <th class=\"col_heading level0 col2\" >Total Purchase Value</th> \n",
       "    </tr>    <tr> \n",
       "        <th class=\"index_name level0\" >SN</th> \n",
       "        <th class=\"blank\" ></th> \n",
       "        <th class=\"blank\" ></th> \n",
       "        <th class=\"blank\" ></th> \n",
       "    </tr></thead> \n",
       "<tbody>    <tr> \n",
       "        <th id=\"T_db24ceac_451d_11e9_a9dd_d0817aba475clevel0_row0\" class=\"row_heading level0 row0\" >Lisosia93</th> \n",
       "        <td id=\"T_db24ceac_451d_11e9_a9dd_d0817aba475crow0_col0\" class=\"data row0 col0\" >5</td> \n",
       "        <td id=\"T_db24ceac_451d_11e9_a9dd_d0817aba475crow0_col1\" class=\"data row0 col1\" >$3.79</td> \n",
       "        <td id=\"T_db24ceac_451d_11e9_a9dd_d0817aba475crow0_col2\" class=\"data row0 col2\" >$18.96</td> \n",
       "    </tr>    <tr> \n",
       "        <th id=\"T_db24ceac_451d_11e9_a9dd_d0817aba475clevel0_row1\" class=\"row_heading level0 row1\" >Idastidru52</th> \n",
       "        <td id=\"T_db24ceac_451d_11e9_a9dd_d0817aba475crow1_col0\" class=\"data row1 col0\" >4</td> \n",
       "        <td id=\"T_db24ceac_451d_11e9_a9dd_d0817aba475crow1_col1\" class=\"data row1 col1\" >$3.86</td> \n",
       "        <td id=\"T_db24ceac_451d_11e9_a9dd_d0817aba475crow1_col2\" class=\"data row1 col2\" >$15.45</td> \n",
       "    </tr>    <tr> \n",
       "        <th id=\"T_db24ceac_451d_11e9_a9dd_d0817aba475clevel0_row2\" class=\"row_heading level0 row2\" >Chamjask73</th> \n",
       "        <td id=\"T_db24ceac_451d_11e9_a9dd_d0817aba475crow2_col0\" class=\"data row2 col0\" >3</td> \n",
       "        <td id=\"T_db24ceac_451d_11e9_a9dd_d0817aba475crow2_col1\" class=\"data row2 col1\" >$4.61</td> \n",
       "        <td id=\"T_db24ceac_451d_11e9_a9dd_d0817aba475crow2_col2\" class=\"data row2 col2\" >$13.83</td> \n",
       "    </tr>    <tr> \n",
       "        <th id=\"T_db24ceac_451d_11e9_a9dd_d0817aba475clevel0_row3\" class=\"row_heading level0 row3\" >Iral74</th> \n",
       "        <td id=\"T_db24ceac_451d_11e9_a9dd_d0817aba475crow3_col0\" class=\"data row3 col0\" >4</td> \n",
       "        <td id=\"T_db24ceac_451d_11e9_a9dd_d0817aba475crow3_col1\" class=\"data row3 col1\" >$3.40</td> \n",
       "        <td id=\"T_db24ceac_451d_11e9_a9dd_d0817aba475crow3_col2\" class=\"data row3 col2\" >$13.62</td> \n",
       "    </tr>    <tr> \n",
       "        <th id=\"T_db24ceac_451d_11e9_a9dd_d0817aba475clevel0_row4\" class=\"row_heading level0 row4\" >Iskadarya95</th> \n",
       "        <td id=\"T_db24ceac_451d_11e9_a9dd_d0817aba475crow4_col0\" class=\"data row4 col0\" >3</td> \n",
       "        <td id=\"T_db24ceac_451d_11e9_a9dd_d0817aba475crow4_col1\" class=\"data row4 col1\" >$4.37</td> \n",
       "        <td id=\"T_db24ceac_451d_11e9_a9dd_d0817aba475crow4_col2\" class=\"data row4 col2\" >$13.10</td> \n",
       "    </tr></tbody> \n",
       "</table> "
      ],
      "text/plain": [
       "<pandas.io.formats.style.Styler at 0x1225d4630>"
      ]
     },
     "execution_count": 188,
     "metadata": {},
     "output_type": "execute_result"
    }
   ],
   "source": [
    "#df = purchase_data.set_index(\"SN\")\n",
    "#df.head()\n",
    "\n",
    "table=purchase_data[['SN','Purchase ID']]\n",
    "table\n",
    "\n",
    "table1=table.groupby('SN').count()\n",
    "table1\n",
    "\n",
    "table2=purchase_data[['SN','Price']]\n",
    "table2\n",
    "\n",
    "table3=table2.groupby('SN').mean()\n",
    "table3\n",
    "\n",
    "table4=pd.merge(table1,table3,on=\"SN\")\n",
    "table4\n",
    "\n",
    "table4['Total Purchase Value']=table4['Purchase ID']*table4['Price']\n",
    "table4\n",
    "\n",
    "table5 = table4.sort_values(\n",
    "    [\"Total Purchase Value\"], ascending=False).head(5)\n",
    "table5.head()\n",
    "\n",
    "table5=table5.rename(columns={'Price': 'Average Purchase Price','Purchase ID': 'Purchase Count'})\n",
    "table5 \n",
    "\n",
    "table5=table5.style.format({'Average Purchase Price': '${:,.2f}'.format,'Total Purchase Value': '${:,.2f}'.format,'Avg Total Purchase per Person': '${:,.2f}'.format})\n",
    "table5\n",
    "\n",
    "\n"
   ]
  },
  {
   "cell_type": "markdown",
   "metadata": {},
   "source": [
    "## Most Popular Items"
   ]
  },
  {
   "cell_type": "markdown",
   "metadata": {},
   "source": [
    "* Retrieve the Item ID, Item Name, and Item Price columns\n",
    "\n",
    "\n",
    "* Group by Item ID and Item Name. Perform calculations to obtain purchase count, item price, and total purchase value\n",
    "\n",
    "\n",
    "* Create a summary data frame to hold the results\n",
    "\n",
    "\n",
    "* Sort the purchase count column in descending order\n",
    "\n",
    "\n",
    "* Optional: give the displayed data cleaner formatting\n",
    "\n",
    "\n",
    "* Display a preview of the summary data frame\n",
    "\n"
   ]
  },
  {
   "cell_type": "code",
   "execution_count": 186,
   "metadata": {},
   "outputs": [
    {
     "data": {
      "text/html": [
       "<style  type=\"text/css\" >\n",
       "</style>  \n",
       "<table id=\"T_b5df7ae8_451d_11e9_a9dd_d0817aba475c\" > \n",
       "<thead>    <tr> \n",
       "        <th class=\"blank level0\" ></th> \n",
       "        <th class=\"col_heading level0 col0\" >index</th> \n",
       "        <th class=\"col_heading level0 col1\" >Item ID</th> \n",
       "        <th class=\"col_heading level0 col2\" >Item Name</th> \n",
       "        <th class=\"col_heading level0 col3\" >Purchase Count</th> \n",
       "        <th class=\"col_heading level0 col4\" >Average Purchase Price</th> \n",
       "        <th class=\"col_heading level0 col5\" >Total Purchase Value</th> \n",
       "    </tr></thead> \n",
       "<tbody>    <tr> \n",
       "        <th id=\"T_b5df7ae8_451d_11e9_a9dd_d0817aba475clevel0_row0\" class=\"row_heading level0 row0\" >0</th> \n",
       "        <td id=\"T_b5df7ae8_451d_11e9_a9dd_d0817aba475crow0_col0\" class=\"data row0 col0\" >177</td> \n",
       "        <td id=\"T_b5df7ae8_451d_11e9_a9dd_d0817aba475crow0_col1\" class=\"data row0 col1\" >178</td> \n",
       "        <td id=\"T_b5df7ae8_451d_11e9_a9dd_d0817aba475crow0_col2\" class=\"data row0 col2\" >Oathbreaker, Last Hope of the Breaking Storm</td> \n",
       "        <td id=\"T_b5df7ae8_451d_11e9_a9dd_d0817aba475crow0_col3\" class=\"data row0 col3\" >12</td> \n",
       "        <td id=\"T_b5df7ae8_451d_11e9_a9dd_d0817aba475crow0_col4\" class=\"data row0 col4\" >$4.23</td> \n",
       "        <td id=\"T_b5df7ae8_451d_11e9_a9dd_d0817aba475crow0_col5\" class=\"data row0 col5\" >$50.76</td> \n",
       "    </tr>    <tr> \n",
       "        <th id=\"T_b5df7ae8_451d_11e9_a9dd_d0817aba475clevel0_row1\" class=\"row_heading level0 row1\" >1</th> \n",
       "        <td id=\"T_b5df7ae8_451d_11e9_a9dd_d0817aba475crow1_col0\" class=\"data row1 col0\" >144</td> \n",
       "        <td id=\"T_b5df7ae8_451d_11e9_a9dd_d0817aba475crow1_col1\" class=\"data row1 col1\" >145</td> \n",
       "        <td id=\"T_b5df7ae8_451d_11e9_a9dd_d0817aba475crow1_col2\" class=\"data row1 col2\" >Fiery Glass Crusader</td> \n",
       "        <td id=\"T_b5df7ae8_451d_11e9_a9dd_d0817aba475crow1_col3\" class=\"data row1 col3\" >9</td> \n",
       "        <td id=\"T_b5df7ae8_451d_11e9_a9dd_d0817aba475crow1_col4\" class=\"data row1 col4\" >$4.58</td> \n",
       "        <td id=\"T_b5df7ae8_451d_11e9_a9dd_d0817aba475crow1_col5\" class=\"data row1 col5\" >$41.22</td> \n",
       "    </tr>    <tr> \n",
       "        <th id=\"T_b5df7ae8_451d_11e9_a9dd_d0817aba475clevel0_row2\" class=\"row_heading level0 row2\" >2</th> \n",
       "        <td id=\"T_b5df7ae8_451d_11e9_a9dd_d0817aba475crow2_col0\" class=\"data row2 col0\" >107</td> \n",
       "        <td id=\"T_b5df7ae8_451d_11e9_a9dd_d0817aba475crow2_col1\" class=\"data row2 col1\" >108</td> \n",
       "        <td id=\"T_b5df7ae8_451d_11e9_a9dd_d0817aba475crow2_col2\" class=\"data row2 col2\" >Extraction, Quickblade Of Trembling Hands</td> \n",
       "        <td id=\"T_b5df7ae8_451d_11e9_a9dd_d0817aba475crow2_col3\" class=\"data row2 col3\" >9</td> \n",
       "        <td id=\"T_b5df7ae8_451d_11e9_a9dd_d0817aba475crow2_col4\" class=\"data row2 col4\" >$3.53</td> \n",
       "        <td id=\"T_b5df7ae8_451d_11e9_a9dd_d0817aba475crow2_col5\" class=\"data row2 col5\" >$31.77</td> \n",
       "    </tr>    <tr> \n",
       "        <th id=\"T_b5df7ae8_451d_11e9_a9dd_d0817aba475clevel0_row3\" class=\"row_heading level0 row3\" >3</th> \n",
       "        <td id=\"T_b5df7ae8_451d_11e9_a9dd_d0817aba475crow3_col0\" class=\"data row3 col0\" >81</td> \n",
       "        <td id=\"T_b5df7ae8_451d_11e9_a9dd_d0817aba475crow3_col1\" class=\"data row3 col1\" >82</td> \n",
       "        <td id=\"T_b5df7ae8_451d_11e9_a9dd_d0817aba475crow3_col2\" class=\"data row3 col2\" >Nirvana</td> \n",
       "        <td id=\"T_b5df7ae8_451d_11e9_a9dd_d0817aba475crow3_col3\" class=\"data row3 col3\" >9</td> \n",
       "        <td id=\"T_b5df7ae8_451d_11e9_a9dd_d0817aba475crow3_col4\" class=\"data row3 col4\" >$4.90</td> \n",
       "        <td id=\"T_b5df7ae8_451d_11e9_a9dd_d0817aba475crow3_col5\" class=\"data row3 col5\" >$44.10</td> \n",
       "    </tr>    <tr> \n",
       "        <th id=\"T_b5df7ae8_451d_11e9_a9dd_d0817aba475clevel0_row4\" class=\"row_heading level0 row4\" >4</th> \n",
       "        <td id=\"T_b5df7ae8_451d_11e9_a9dd_d0817aba475crow4_col0\" class=\"data row4 col0\" >19</td> \n",
       "        <td id=\"T_b5df7ae8_451d_11e9_a9dd_d0817aba475crow4_col1\" class=\"data row4 col1\" >19</td> \n",
       "        <td id=\"T_b5df7ae8_451d_11e9_a9dd_d0817aba475crow4_col2\" class=\"data row4 col2\" >Pursuit, Cudgel of Necromancy</td> \n",
       "        <td id=\"T_b5df7ae8_451d_11e9_a9dd_d0817aba475crow4_col3\" class=\"data row4 col3\" >8</td> \n",
       "        <td id=\"T_b5df7ae8_451d_11e9_a9dd_d0817aba475crow4_col4\" class=\"data row4 col4\" >$1.02</td> \n",
       "        <td id=\"T_b5df7ae8_451d_11e9_a9dd_d0817aba475crow4_col5\" class=\"data row4 col5\" >$8.16</td> \n",
       "    </tr></tbody> \n",
       "</table> "
      ],
      "text/plain": [
       "<pandas.io.formats.style.Styler at 0x122933be0>"
      ]
     },
     "execution_count": 186,
     "metadata": {},
     "output_type": "execute_result"
    }
   ],
   "source": [
    "item_table=purchase_data[['Item ID','Purchase ID']]\n",
    "item_table\n",
    "\n",
    "item_table1=item_table.groupby(['Item ID']).count()\n",
    "item_table1\n",
    "\n",
    "item_table2=purchase_data[['Item ID','Item Name','Price']]\n",
    "item_table2\n",
    "\n",
    "item_table3=item_table2.groupby(['Item ID','Item Name']).mean()\n",
    "item_table3.reset_index(inplace=True)\n",
    "\n",
    "item_table4=pd.merge(item_table1, item_table3,on='Item ID', how=\"outer\")\n",
    "item_table4\n",
    "\n",
    "\n",
    "item_table4['Total Purchase Value']=item_table4['Purchase ID']*item_table4['Price']\n",
    "item_table4\n",
    "\n",
    "item_table4=item_table4[['Item ID','Item Name','Purchase ID','Price','Total Purchase Value']]\n",
    "item_table4\n",
    "\n",
    "\n",
    "item_table5 =item_table4.sort_values([\"Purchase ID\"], ascending=False).head(5)\n",
    "item_table5\n",
    "item_table5.reset_index(inplace=True)\n",
    "\n",
    "item_table5=item_table5.rename(columns={'Price': 'Average Purchase Price','Purchase ID': 'Purchase Count'})\n",
    "item_table5 \n",
    "\n",
    "item_table5=item_table5.style.format({'Average Purchase Price': '${:,.2f}'.format,'Total Purchase Value': '${:,.2f}'.format,'Avg Total Purchase per Person': '${:,.2f}'.format})\n",
    "item_table5\n",
    "\n",
    "#item_table6=item_table5[['Item ID','Item Name','Purchase Count','Average Purchase Price','Total Purhse Value']]\n",
    "#item_table6\n",
    "\n",
    "\n"
   ]
  },
  {
   "cell_type": "markdown",
   "metadata": {},
   "source": [
    "## Most Profitable Items"
   ]
  },
  {
   "cell_type": "markdown",
   "metadata": {},
   "source": [
    "* Sort the above table by total purchase value in descending order\n",
    "\n",
    "\n",
    "* Optional: give the displayed data cleaner formatting\n",
    "\n",
    "\n",
    "* Display a preview of the data frame\n",
    "\n"
   ]
  },
  {
   "cell_type": "code",
   "execution_count": 187,
   "metadata": {
    "scrolled": true
   },
   "outputs": [
    {
     "data": {
      "text/html": [
       "<style  type=\"text/css\" >\n",
       "</style>  \n",
       "<table id=\"T_c1d6363e_451d_11e9_a9dd_d0817aba475c\" > \n",
       "<thead>    <tr> \n",
       "        <th class=\"blank level0\" ></th> \n",
       "        <th class=\"col_heading level0 col0\" >Item ID</th> \n",
       "        <th class=\"col_heading level0 col1\" >Item Name</th> \n",
       "        <th class=\"col_heading level0 col2\" >Purchase Count</th> \n",
       "        <th class=\"col_heading level0 col3\" >Average Purchase Price</th> \n",
       "        <th class=\"col_heading level0 col4\" >Total Purchase Value</th> \n",
       "    </tr></thead> \n",
       "<tbody>    <tr> \n",
       "        <th id=\"T_c1d6363e_451d_11e9_a9dd_d0817aba475clevel0_row0\" class=\"row_heading level0 row0\" >177</th> \n",
       "        <td id=\"T_c1d6363e_451d_11e9_a9dd_d0817aba475crow0_col0\" class=\"data row0 col0\" >178</td> \n",
       "        <td id=\"T_c1d6363e_451d_11e9_a9dd_d0817aba475crow0_col1\" class=\"data row0 col1\" >Oathbreaker, Last Hope of the Breaking Storm</td> \n",
       "        <td id=\"T_c1d6363e_451d_11e9_a9dd_d0817aba475crow0_col2\" class=\"data row0 col2\" >12</td> \n",
       "        <td id=\"T_c1d6363e_451d_11e9_a9dd_d0817aba475crow0_col3\" class=\"data row0 col3\" >$4.23</td> \n",
       "        <td id=\"T_c1d6363e_451d_11e9_a9dd_d0817aba475crow0_col4\" class=\"data row0 col4\" >$50.76</td> \n",
       "    </tr>    <tr> \n",
       "        <th id=\"T_c1d6363e_451d_11e9_a9dd_d0817aba475clevel0_row1\" class=\"row_heading level0 row1\" >81</th> \n",
       "        <td id=\"T_c1d6363e_451d_11e9_a9dd_d0817aba475crow1_col0\" class=\"data row1 col0\" >82</td> \n",
       "        <td id=\"T_c1d6363e_451d_11e9_a9dd_d0817aba475crow1_col1\" class=\"data row1 col1\" >Nirvana</td> \n",
       "        <td id=\"T_c1d6363e_451d_11e9_a9dd_d0817aba475crow1_col2\" class=\"data row1 col2\" >9</td> \n",
       "        <td id=\"T_c1d6363e_451d_11e9_a9dd_d0817aba475crow1_col3\" class=\"data row1 col3\" >$4.90</td> \n",
       "        <td id=\"T_c1d6363e_451d_11e9_a9dd_d0817aba475crow1_col4\" class=\"data row1 col4\" >$44.10</td> \n",
       "    </tr>    <tr> \n",
       "        <th id=\"T_c1d6363e_451d_11e9_a9dd_d0817aba475clevel0_row2\" class=\"row_heading level0 row2\" >144</th> \n",
       "        <td id=\"T_c1d6363e_451d_11e9_a9dd_d0817aba475crow2_col0\" class=\"data row2 col0\" >145</td> \n",
       "        <td id=\"T_c1d6363e_451d_11e9_a9dd_d0817aba475crow2_col1\" class=\"data row2 col1\" >Fiery Glass Crusader</td> \n",
       "        <td id=\"T_c1d6363e_451d_11e9_a9dd_d0817aba475crow2_col2\" class=\"data row2 col2\" >9</td> \n",
       "        <td id=\"T_c1d6363e_451d_11e9_a9dd_d0817aba475crow2_col3\" class=\"data row2 col3\" >$4.58</td> \n",
       "        <td id=\"T_c1d6363e_451d_11e9_a9dd_d0817aba475crow2_col4\" class=\"data row2 col4\" >$41.22</td> \n",
       "    </tr>    <tr> \n",
       "        <th id=\"T_c1d6363e_451d_11e9_a9dd_d0817aba475clevel0_row3\" class=\"row_heading level0 row3\" >91</th> \n",
       "        <td id=\"T_c1d6363e_451d_11e9_a9dd_d0817aba475crow3_col0\" class=\"data row3 col0\" >92</td> \n",
       "        <td id=\"T_c1d6363e_451d_11e9_a9dd_d0817aba475crow3_col1\" class=\"data row3 col1\" >Final Critic</td> \n",
       "        <td id=\"T_c1d6363e_451d_11e9_a9dd_d0817aba475crow3_col2\" class=\"data row3 col2\" >8</td> \n",
       "        <td id=\"T_c1d6363e_451d_11e9_a9dd_d0817aba475crow3_col3\" class=\"data row3 col3\" >$4.88</td> \n",
       "        <td id=\"T_c1d6363e_451d_11e9_a9dd_d0817aba475crow3_col4\" class=\"data row3 col4\" >$39.04</td> \n",
       "    </tr>    <tr> \n",
       "        <th id=\"T_c1d6363e_451d_11e9_a9dd_d0817aba475clevel0_row4\" class=\"row_heading level0 row4\" >102</th> \n",
       "        <td id=\"T_c1d6363e_451d_11e9_a9dd_d0817aba475crow4_col0\" class=\"data row4 col0\" >103</td> \n",
       "        <td id=\"T_c1d6363e_451d_11e9_a9dd_d0817aba475crow4_col1\" class=\"data row4 col1\" >Singed Scalpel</td> \n",
       "        <td id=\"T_c1d6363e_451d_11e9_a9dd_d0817aba475crow4_col2\" class=\"data row4 col2\" >8</td> \n",
       "        <td id=\"T_c1d6363e_451d_11e9_a9dd_d0817aba475crow4_col3\" class=\"data row4 col3\" >$4.35</td> \n",
       "        <td id=\"T_c1d6363e_451d_11e9_a9dd_d0817aba475crow4_col4\" class=\"data row4 col4\" >$34.80</td> \n",
       "    </tr></tbody> \n",
       "</table> "
      ],
      "text/plain": [
       "<pandas.io.formats.style.Styler at 0x122990ac8>"
      ]
     },
     "execution_count": 187,
     "metadata": {},
     "output_type": "execute_result"
    }
   ],
   "source": [
    "\n",
    "item_table6 =item_table4.sort_values([\"Total Purchase Value\"], ascending=False).head(5)\n",
    "item_table6\n",
    "\n",
    "item_table6=item_table6.rename(columns={'Price': 'Average Purchase Price','Purchase ID': 'Purchase Count'})\n",
    "item_table6 \n",
    "\n",
    "item_table6=item_table6.style.format({'Average Purchase Price': '${:,.2f}'.format,'Total Purchase Value': '${:,.2f}'.format,'Avg Total Purchase per Person': '${:,.2f}'.format})\n",
    "item_table6"
   ]
  },
  {
   "cell_type": "code",
   "execution_count": null,
   "metadata": {},
   "outputs": [],
   "source": []
  }
 ],
 "metadata": {
  "anaconda-cloud": {},
  "kernel_info": {
   "name": "python3"
  },
  "kernelspec": {
   "display_name": "Python 3",
   "language": "python",
   "name": "python3"
  },
  "language_info": {
   "codemirror_mode": {
    "name": "ipython",
    "version": 3
   },
   "file_extension": ".py",
   "mimetype": "text/x-python",
   "name": "python",
   "nbconvert_exporter": "python",
   "pygments_lexer": "ipython3",
   "version": "3.7.1"
  },
  "nteract": {
   "version": "0.2.0"
  }
 },
 "nbformat": 4,
 "nbformat_minor": 2
}
